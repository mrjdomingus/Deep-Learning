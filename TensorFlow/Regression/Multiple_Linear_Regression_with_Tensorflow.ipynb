{
 "cells": [
  {
   "cell_type": "markdown",
   "metadata": {},
   "source": [
    "This **Multiple linear regression** notebook is based on [Getting started with Neural Network for regression and Tensorflow](https://medium.com/@rajatgupta310198/getting-started-with-neural-network-for-regression-and-tensorflow-58ad3bd75223).\n",
    "\n",
    "Some additional fixes have been applied."
   ]
  },
  {
   "cell_type": "code",
   "execution_count": 17,
   "metadata": {},
   "outputs": [],
   "source": [
    "# First import all dependencies\n",
    "import pandas as pd\n",
    "import numpy as np\n",
    "import matplotlib.pyplot as plt\n",
    "import seaborn as sns\n",
    "from sklearn.preprocessing import MinMaxScaler\n",
    "import tensorflow as tf\n",
    "import timeit\n",
    "%matplotlib inline\n"
   ]
  },
  {
   "cell_type": "code",
   "execution_count": 18,
   "metadata": {},
   "outputs": [
    {
     "name": "stdout",
     "output_type": "stream",
     "text": [
      "<class 'pandas.core.frame.DataFrame'>\n",
      "RangeIndex: 1260 entries, 0 to 1259\n",
      "Data columns (total 7 columns):\n",
      "Date         1260 non-null object\n",
      "Open         1260 non-null float64\n",
      "High         1260 non-null float64\n",
      "Low          1260 non-null float64\n",
      "Close        1260 non-null float64\n",
      "Adj Close    1260 non-null float64\n",
      "Volume       1260 non-null int64\n",
      "dtypes: float64(5), int64(1), object(1)\n",
      "memory usage: 69.0+ KB\n",
      "None\n"
     ]
    }
   ],
   "source": [
    "df = pd.read_csv('DJI.csv') # read data set using pandas\n",
    "print(df.info()) # Overview of dataset"
   ]
  },
  {
   "cell_type": "code",
   "execution_count": 19,
   "metadata": {},
   "outputs": [
    {
     "name": "stderr",
     "output_type": "stream",
     "text": [
      "d:\\tf-gpu\\venv\\lib\\site-packages\\ipykernel_launcher.py:13: FutureWarning: Method .as_matrix will be removed in a future version. Use .values instead.\n",
      "  del sys.path[0]\n",
      "d:\\tf-gpu\\venv\\lib\\site-packages\\ipykernel_launcher.py:15: FutureWarning: Method .as_matrix will be removed in a future version. Use .values instead.\n",
      "  from ipykernel import kernelapp as app\n",
      "d:\\tf-gpu\\venv\\lib\\site-packages\\ipykernel_launcher.py:18: FutureWarning: Method .as_matrix will be removed in a future version. Use .values instead.\n",
      "d:\\tf-gpu\\venv\\lib\\site-packages\\ipykernel_launcher.py:19: FutureWarning: Method .as_matrix will be removed in a future version. Use .values instead.\n"
     ]
    }
   ],
   "source": [
    "df = df.drop(['Date'],axis=1) # Drop Date feature\n",
    "df = df.dropna(inplace=False)  # Remove all NaN entries.\n",
    "df = df.drop(['Adj Close','Volume'],axis=1) # Drop Adj Close and Volume feature\n",
    "splitidx = (len(df) * 6) // 10\n",
    "df_train = df[:splitidx]    # 60% training data and 40% testing data\n",
    "df_test = df[splitidx:]\n",
    "\n",
    "# Normalize train dataset and test dataset\n",
    "scaler = MinMaxScaler() # For normalizing dataset\n",
    "\n",
    "# Create and scale the train dataset, y is output and x is features (independent variables)\n",
    "# Our features will be Open, High and Low (i.e. drop Close)\n",
    "X_train = scaler.fit_transform(df_train.drop(['Close'],axis=1).as_matrix())\n",
    "# We want to predict Close value of stock \n",
    "y_train = scaler.fit_transform(df_train['Close'].as_matrix().reshape(-1, 1))\n",
    "\n",
    "# Create and scale the test dataset\n",
    "X_test = scaler.fit_transform(df_test.drop(['Close'],axis=1).as_matrix())\n",
    "y_test = scaler.fit_transform(df_test['Close'].as_matrix().reshape(-1, 1))\n"
   ]
  },
  {
   "cell_type": "markdown",
   "metadata": {},
   "source": [
    "Below written function for denormalization of normalized data.\n",
    "\n",
    "Parameter **df** must contain the original dataset the scaler was fitted to.\n",
    "Parameter **norm_data** must contain the scaled data that has to be denormalized.\n",
    "\n",
    "As this funtion is intended to be used with a 1D-value be sure to apply **reshape(-1,1)** to create 2D datasets as required by **fit_transform** and **inverse_transform**."
   ]
  },
  {
   "cell_type": "code",
   "execution_count": 20,
   "metadata": {},
   "outputs": [],
   "source": [
    "def denormalize(df, norm_data):\n",
    "    df = df['Close'].values.reshape(-1,1)\n",
    "    norm_data = norm_data.reshape(-1,1)\n",
    "    scl = MinMaxScaler()\n",
    "    _ = scl.fit_transform(df)\n",
    "    return (scl.inverse_transform(norm_data))\n"
   ]
  },
  {
   "cell_type": "markdown",
   "metadata": {},
   "source": [
    "**neural_net_model** is a function applying a 2 hidden layers, feed forward neural net.\n",
    "Weights and biases are abbreviated as **W_1**, **W_2** and **b_1**, **b_2**.\n",
    "These are variables which will be updated during training."
   ]
  },
  {
   "cell_type": "code",
   "execution_count": 21,
   "metadata": {},
   "outputs": [],
   "source": [
    "def neural_net_model(X_data,input_dim):\n",
    "    # layer 1 multiplying and adding bias then activation function\n",
    "    W_1 = tf.Variable(tf.random_uniform([input_dim,10]))\n",
    "    b_1 = tf.Variable(tf.zeros([10]))\n",
    "    layer_1 = tf.add(tf.matmul(X_data, W_1), b_1)\n",
    "    layer_1 = tf.nn.relu(layer_1)\n",
    "\n",
    "    # layer 2 multiplying and adding bias then activation function\n",
    "    W_2 = tf.Variable(tf.random_uniform([10,10]))\n",
    "    b_2 = tf.Variable(tf.zeros([10]))\n",
    "    layer_2 = tf.add(tf.matmul(layer_1, W_2), b_2)\n",
    "    layer_2 = tf.nn.relu(layer_2)\n",
    "    \n",
    "    # Output layer multiplying and adding bias, then activation function\n",
    "    # notice output layer has one node only since we are performing regression\n",
    "   \n",
    "    W_O = tf.Variable(tf.random_uniform([10,1]))\n",
    "    b_O = tf.Variable(tf.zeros([1]))\n",
    "    output = tf.add(tf.matmul(layer_2, W_O), b_O)\n",
    "    \n",
    "    return output"
   ]
  },
  {
   "cell_type": "code",
   "execution_count": 22,
   "metadata": {},
   "outputs": [],
   "source": [
    "xs = tf.placeholder(\"float\")\n",
    "ys = tf.placeholder(\"float\")\n",
    "output = neural_net_model(xs,3)\n",
    "cost = tf.reduce_mean(tf.square(output-ys))\n",
    "# our mean squared error cost function\n",
    "train = tf.train.GradientDescentOptimizer(0.001).minimize(cost)\n",
    "# Gradient Descent optimiztion just discussed above for updating weights and biases"
   ]
  },
  {
   "cell_type": "code",
   "execution_count": 23,
   "metadata": {},
   "outputs": [],
   "source": [
    "def main():\n",
    "    cost_t = []\n",
    "    global y_test\n",
    "\n",
    "    '''\n",
    "    Create a ConfigProto that uses a maximum of six threads for single operations and a \n",
    "    maximum of eight threads for parallel operations. \n",
    "    Then use the ConfigPrototo to create a session.\n",
    "    '''\n",
    "#     conf = tf.ConfigProto(intra_op_parallelism_threads=6,\n",
    "#     inter_op_parallelism_threads=8,\n",
    "#     log_device_placement=True)\n",
    "\n",
    "    conf = tf.ConfigProto(log_device_placement=True)\n",
    "\n",
    "    with tf.Session(config=conf) as sess:\n",
    "        # Initiate session and initialize all vaiables\n",
    "        sess.run(tf.global_variables_initializer())\n",
    "        saver = tf.train.Saver()\n",
    "        #saver.restore(sess,'./DJI.ckpt')\n",
    "        for i in range(100):\n",
    "            for j in range(X_train.shape[0]):\n",
    "                # Run cost and train with each sample\n",
    "                sess.run([cost,train],feed_dict={xs:X_train[j,:].reshape(1,3), ys:y_train[j]})\n",
    "\n",
    "            # Calculate cost for both train and test dataset\n",
    "            cost_t.append(sess.run(cost, feed_dict={xs:X_train, ys:y_train}))\n",
    "            print('Epoch :',i,'Cost :',cost_t[i])\n",
    "\n",
    "        # predict output of test data after training\n",
    "        pred = sess.run(output, feed_dict={xs:X_test})\n",
    "\n",
    "        #Denormalize data     \n",
    "        y_test = denormalize(df_test,y_test)\n",
    "        pred = denormalize(df_test,pred)\n",
    "\n",
    "        # Generate plot of original vs predicted data\n",
    "        plt.plot(range(y_test.shape[0]), y_test, label=\"Original Data\")\n",
    "        plt.plot(range(y_test.shape[0]), pred, label=\"Predicted Data\")\n",
    "        plt.legend(loc='best')\n",
    "        plt.ylabel('Stock Value')\n",
    "        plt.xlabel('Days')\n",
    "        plt.title('Stock Market Dow Jones Index')\n",
    "        plt.show()\n",
    "        # Save model if so desired\n",
    "        #if input('Save model ? [Y/N]') == 'Y':\n",
    "        # Be sure to provide the current directory as part of filename, otherwise you get an error\n",
    "        saver.save(sess,'./DJI.ckpt')\n",
    "        print('Model Saved')"
   ]
  },
  {
   "cell_type": "code",
   "execution_count": 24,
   "metadata": {},
   "outputs": [
    {
     "name": "stdout",
     "output_type": "stream",
     "text": [
      "Epoch : 0 Cost : 0.2551496\n",
      "Epoch : 1 Cost : 0.066406555\n",
      "Epoch : 2 Cost : 0.029974526\n",
      "Epoch : 3 Cost : 0.016591005\n",
      "Epoch : 4 Cost : 0.010985422\n",
      "Epoch : 5 Cost : 0.008314732\n",
      "Epoch : 6 Cost : 0.0067762737\n",
      "Epoch : 7 Cost : 0.005748969\n",
      "Epoch : 8 Cost : 0.004943074\n",
      "Epoch : 9 Cost : 0.004281331\n",
      "Epoch : 10 Cost : 0.0037276\n",
      "Epoch : 11 Cost : 0.0032842495\n",
      "Epoch : 12 Cost : 0.0029353413\n",
      "Epoch : 13 Cost : 0.002659625\n",
      "Epoch : 14 Cost : 0.0024270383\n",
      "Epoch : 15 Cost : 0.0022310643\n",
      "Epoch : 16 Cost : 0.0020676227\n",
      "Epoch : 17 Cost : 0.0019284072\n",
      "Epoch : 18 Cost : 0.0018103876\n",
      "Epoch : 19 Cost : 0.001709374\n",
      "Epoch : 20 Cost : 0.0016168442\n",
      "Epoch : 21 Cost : 0.0015334144\n",
      "Epoch : 22 Cost : 0.0014591003\n",
      "Epoch : 23 Cost : 0.0013900051\n",
      "Epoch : 24 Cost : 0.0013261581\n",
      "Epoch : 25 Cost : 0.0012659851\n",
      "Epoch : 26 Cost : 0.0012087747\n",
      "Epoch : 27 Cost : 0.0011583397\n",
      "Epoch : 28 Cost : 0.001111336\n",
      "Epoch : 29 Cost : 0.0010712654\n",
      "Epoch : 30 Cost : 0.001035766\n",
      "Epoch : 31 Cost : 0.0010019894\n",
      "Epoch : 32 Cost : 0.00097364635\n",
      "Epoch : 33 Cost : 0.0009485051\n",
      "Epoch : 34 Cost : 0.00092664093\n",
      "Epoch : 35 Cost : 0.0009076707\n",
      "Epoch : 36 Cost : 0.0008921964\n",
      "Epoch : 37 Cost : 0.0008787484\n",
      "Epoch : 38 Cost : 0.0008669436\n",
      "Epoch : 39 Cost : 0.00085609336\n",
      "Epoch : 40 Cost : 0.0008463681\n",
      "Epoch : 41 Cost : 0.0008376519\n",
      "Epoch : 42 Cost : 0.0008300729\n",
      "Epoch : 43 Cost : 0.0008234335\n",
      "Epoch : 44 Cost : 0.00081739994\n",
      "Epoch : 45 Cost : 0.00081163493\n",
      "Epoch : 46 Cost : 0.000806037\n",
      "Epoch : 47 Cost : 0.00080072106\n",
      "Epoch : 48 Cost : 0.0007956833\n",
      "Epoch : 49 Cost : 0.00079095905\n",
      "Epoch : 50 Cost : 0.000786563\n",
      "Epoch : 51 Cost : 0.0007823495\n",
      "Epoch : 52 Cost : 0.00077841047\n",
      "Epoch : 53 Cost : 0.000774686\n",
      "Epoch : 54 Cost : 0.0007710395\n",
      "Epoch : 55 Cost : 0.0007675829\n",
      "Epoch : 56 Cost : 0.0007643173\n",
      "Epoch : 57 Cost : 0.00076132274\n",
      "Epoch : 58 Cost : 0.0007585002\n",
      "Epoch : 59 Cost : 0.00075588445\n",
      "Epoch : 60 Cost : 0.0007533585\n",
      "Epoch : 61 Cost : 0.0007509353\n",
      "Epoch : 62 Cost : 0.0007485648\n",
      "Epoch : 63 Cost : 0.0007462661\n",
      "Epoch : 64 Cost : 0.00074401405\n",
      "Epoch : 65 Cost : 0.0007418961\n",
      "Epoch : 66 Cost : 0.0007398335\n",
      "Epoch : 67 Cost : 0.0007378351\n",
      "Epoch : 68 Cost : 0.00073589\n",
      "Epoch : 69 Cost : 0.00073399825\n",
      "Epoch : 70 Cost : 0.0007321539\n",
      "Epoch : 71 Cost : 0.00073037355\n",
      "Epoch : 72 Cost : 0.00072853843\n",
      "Epoch : 73 Cost : 0.0007267196\n",
      "Epoch : 74 Cost : 0.0007249513\n",
      "Epoch : 75 Cost : 0.0007232596\n",
      "Epoch : 76 Cost : 0.0007216172\n",
      "Epoch : 77 Cost : 0.0007200143\n",
      "Epoch : 78 Cost : 0.0007184539\n",
      "Epoch : 79 Cost : 0.0007169472\n",
      "Epoch : 80 Cost : 0.0007154779\n",
      "Epoch : 81 Cost : 0.00071403413\n",
      "Epoch : 82 Cost : 0.0007126358\n",
      "Epoch : 83 Cost : 0.00071126304\n",
      "Epoch : 84 Cost : 0.0007099391\n",
      "Epoch : 85 Cost : 0.00070863613\n",
      "Epoch : 86 Cost : 0.0007073644\n",
      "Epoch : 87 Cost : 0.00070611533\n",
      "Epoch : 88 Cost : 0.00070487295\n",
      "Epoch : 89 Cost : 0.00070364866\n",
      "Epoch : 90 Cost : 0.0007024554\n",
      "Epoch : 91 Cost : 0.0007012778\n",
      "Epoch : 92 Cost : 0.0007001278\n",
      "Epoch : 93 Cost : 0.0006989995\n",
      "Epoch : 94 Cost : 0.0006979186\n",
      "Epoch : 95 Cost : 0.0006968837\n",
      "Epoch : 96 Cost : 0.00069589616\n",
      "Epoch : 97 Cost : 0.0006949078\n",
      "Epoch : 98 Cost : 0.0006939638\n",
      "Epoch : 99 Cost : 0.0006930043\n"
     ]
    },
    {
     "data": {
      "image/png": "[encoded data removed]",
      "text/plain": [
       "<Figure size 432x288 with 1 Axes>"
      ]
     },
     "metadata": {
      "needs_background": "light"
     },
     "output_type": "display_data"
    },
    {
     "name": "stdout",
     "output_type": "stream",
     "text": [
      "Model Saved\n"
     ]
    },
    {
     "data": {
      "text/plain": [
       "75.3912333852814"
      ]
     },
     "execution_count": 24,
     "metadata": {},
     "output_type": "execute_result"
    }
   ],
   "source": [
    "timeit.timeit(main, number=1)"
   ]
  },
  {
   "cell_type": "code",
   "execution_count": null,
   "metadata": {},
   "outputs": [],
   "source": []
  }
 ],
 "metadata": {
  "kernelspec": {
   "display_name": "Python 3",
   "language": "python",
   "name": "python3"
  },
  "language_info": {
   "codemirror_mode": {
    "name": "ipython",
    "version": 3
   },
   "file_extension": ".py",
   "mimetype": "text/x-python",
   "name": "python",
   "nbconvert_exporter": "python",
   "pygments_lexer": "ipython3",
   "version": "3.6.7"
  }
 },
 "nbformat": 4,
 "nbformat_minor": 2
}
